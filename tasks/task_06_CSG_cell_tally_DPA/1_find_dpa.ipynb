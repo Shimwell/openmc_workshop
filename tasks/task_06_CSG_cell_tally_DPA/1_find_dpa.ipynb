{
 "cells": [
  {
   "cell_type": "markdown",
   "metadata": {},
   "source": [
    "# Task 6 - Simulating Displacements Per Atom (DPA)\n",
    "\n",
    "Displacements per atom (DPA) is one measure of damage within materials exposed to neutron irradiation. Damage energy can be tallied in OpenMC with MT reaction number 444 and DPA can be estimated.\n",
    "\n",
    "In the case of DPA a neutronics code alone can't fully calculate the value as material science techniques are needed to account for the material and recombination effects. For example, after a displacement there is a chance that the atom relocates to it's original lattice position (recombination) and different atoms require different amounts of energy to [displace](https://fispact.ukaea.uk/wiki/Output_interpretation#DPA_and_KERMA). The DPA tally from neutronics is therefore only an estimate of the DPA.\n",
    "\n",
    "The MT 444 / damage energy tally is in units of eV per source particle. Therefore the result needs scaling by the source intensity (in neutrons per second), the irradiation duration (in seconds) and the number of atoms in the volume."
   ]
  },
  {
   "cell_type": "code",
   "execution_count": 3,
   "metadata": {},
   "outputs": [
    {
     "data": {
      "text/html": [
       "<iframe width=\"560\" height=\"315\" src=\"https://youtube.com/embed/VLn59FSc4GA\" frameborder=\"0\" allow=\"accelerometer; autoplay; clipboard-write; encrypted-media; gyroscope; picture-in-picture\" allowfullscreen></iframe>"
      ],
      "text/plain": [
       "<IPython.core.display.HTML object>"
      ]
     },
     "execution_count": 3,
     "metadata": {},
     "output_type": "execute_result"
    }
   ],
   "source": [
    "from IPython.display import HTML\n",
    "HTML('<iframe width=\"560\" height=\"315\" src=\"https://youtube.com/embed/VLn59FSc4GA\" frameborder=\"0\" allow=\"accelerometer; autoplay; clipboard-write; encrypted-media; gyroscope; picture-in-picture\" allowfullscreen></iframe>')"
   ]
  },
  {
   "cell_type": "markdown",
   "metadata": {},
   "source": [
    "This first stage sets up the geometry and materials for the simulation."
   ]
  },
  {
   "cell_type": "code",
   "execution_count": null,
   "metadata": {},
   "outputs": [],
   "source": [
    "import openmc\n",
    "import json\n",
    "\n",
    "\n",
    "# MATERIALS\n",
    "\n",
    "density_of_iron_in_g_per_cm3 = 7.75\n",
    "my_material = openmc.Material(name='Iron')\n",
    "my_material.set_density('g/cm3', density_of_iron_in_g_per_cm3)\n",
    "my_material.add_element('Fe', 1.0, percent_type='wo')\n",
    "\n",
    "mats = openmc.Materials([my_material])\n",
    "\n",
    "\n",
    "# GEOMETRY\n",
    "\n",
    "# surfaces\n",
    "outer_surface = openmc.Sphere(r=610, boundary_type='vacuum')\n",
    "\n",
    "# cells\n",
    "vessel_region = -outer_surface\n",
    "vessel_cell = openmc.Cell(region=vessel_region)\n",
    "vessel_cell.fill = my_material\n",
    "\n",
    "universe = openmc.Universe(cells=[vessel_cell])\n",
    "geom = openmc.Geometry(universe)\n",
    "\n",
    "\n",
    "# SIMULATION SETTINGS\n",
    "\n",
    "# Instantiate a Settings object\n",
    "sett = openmc.Settings()\n",
    "batches = 10\n",
    "sett.batches = batches\n",
    "sett.inactive = 0\n",
    "sett.particles = 10000\n",
    "sett.run_mode = 'fixed source'\n",
    "\n",
    "# Create a DT point source\n",
    "source = openmc.Source()\n",
    "source.space = openmc.stats.Point((0, 0, 0))\n",
    "source.angle = openmc.stats.Isotropic()\n",
    "source.energy = openmc.stats.Discrete([14e6], [1])\n",
    "sett.source = source"
   ]
  },
  {
   "cell_type": "markdown",
   "metadata": {},
   "source": [
    "This sets up the damage energy tally using the MT number 444. A list of MT numbers including their reaction discription can be found [here](https://t2.lanl.gov/nis/endf/mts.html)."
   ]
  },
  {
   "cell_type": "code",
   "execution_count": null,
   "metadata": {},
   "outputs": [],
   "source": [
    "tallies = openmc.Tallies()\n",
    "\n",
    "# added a cell tally for DPA to the iron vessel cell\n",
    "cell_filter = openmc.CellFilter(vessel_cell)\n",
    "reaction_tally = openmc.Tally(name='DPA')\n",
    "reaction_tally.filters = [cell_filter]\n",
    "reaction_tally.scores = ['444']  # note use of 444 in string format\n",
    "tallies.append(reaction_tally)"
   ]
  },
  {
   "cell_type": "markdown",
   "metadata": {},
   "source": [
    "This runs the simulation."
   ]
  },
  {
   "cell_type": "code",
   "execution_count": null,
   "metadata": {},
   "outputs": [],
   "source": [
    "model = openmc.model.Model(geom, mats, sett, tallies)\n",
    "!rm *.h5\n",
    "sp_filename = model.run()"
   ]
  },
  {
   "cell_type": "markdown",
   "metadata": {},
   "source": [
    "This extracts the simulation results and calculates the total number of displacements for all atoms. From here, DPA can be found."
   ]
  },
  {
   "cell_type": "code",
   "execution_count": null,
   "metadata": {},
   "outputs": [],
   "source": [
    "sp = openmc.StatePoint(sp_filename)\n",
    "\n",
    "# access the tally\n",
    "tally = sp.get_tally(name='DPA')\n",
    "\n",
    "df = tally.get_pandas_dataframe()\n",
    "\n",
    "damage_energy_in_ev = df['mean'].sum()\n",
    "\n",
    "\n",
    "print('Damage energy deposited per source neutron = ', damage_energy_in_ev, 'eV\\n')\n",
    "\n",
    "print('Two times the threshold energy of 40eV is needed to displace an atom')\n",
    "displacements_per_source_neutron = damage_energy_in_ev / (2*40)\n",
    "print('Displacements per source neutron = ', displacements_per_source_neutron, '\\n')\n",
    "\n",
    "print('Assuming about 80% remains after 20% recombine to original lattice locations')\n",
    "displacements_per_source_neutron_with_recombination = displacements_per_source_neutron*0.8\n",
    "print('Displacements per source neutron after recombination = ', displacements_per_source_neutron_with_recombination, '\\n')\n",
    "\n",
    "fusion_power = 3e9  # units Watts\n",
    "energy_per_fusion_reaction = 17.6e6  # units eV\n",
    "eV_to_Joules = 1.60218e-19  # multiplication factor to convert eV to Joules\n",
    "number_of_neutrons_per_second = fusion_power / (energy_per_fusion_reaction * eV_to_Joules)\n",
    "print('Number of neutrons per second', number_of_neutrons_per_second, '\\n')\n",
    "\n",
    "number_of_neutrons_per_year = number_of_neutrons_per_second * 60 * 60 * 24 * 365.25\n",
    "print('Number of neutrons per full power year ', number_of_neutrons_per_year)\n",
    "\n",
    "displacements_for_all_atoms = number_of_neutrons_per_year * displacements_per_source_neutron_with_recombination\n",
    "print('Displacements for all atoms in the volume ', displacements_for_all_atoms, '\\n')\n",
    "\n",
    "print('Now the number of atoms in the volume must be found to find displacements per atom (DPA)')"
   ]
  },
  {
   "cell_type": "markdown",
   "metadata": {},
   "source": [
    "This section carries out a volume calculation for the CSG cell. Particles are created randomly within the bounding box (of known volume). Upon creation of particles a check is carried out to see if the particle is also in the CSG volume. The ratio of the particles made in the bounding box to the particles made in the CSG cell is then used to determine the volume of the CSG cell. And error for the CSG cell is also determined."
   ]
  },
  {
   "cell_type": "code",
   "execution_count": null,
   "metadata": {},
   "outputs": [],
   "source": [
    "# volume calculates for materials require a bounding box\n",
    "lower_left = (-1000, -1000, -1000.)\n",
    "upper_right = (1000, 1000, 1000.)\n",
    "material_vol_calc = openmc.VolumeCalculation([my_material], 100000, lower_left, upper_right)\n",
    "\n",
    "cell_vol_calc = openmc.VolumeCalculation([vessel_cell], 100000)\n",
    "\n",
    "settings = openmc.Settings()\n",
    "settings.volume_calculations = [cell_vol_calc, material_vol_calc]\n",
    "settings.run_mode = 'volume'\n",
    "settings.export_to_xml()\n",
    "\n",
    "!rm *.h5\n",
    "openmc.run()\n",
    "\n",
    "cell_vol_calc_results = openmc.VolumeCalculation.from_hdf5('volume_1.h5')\n",
    "print('\\nvessel_cell volume', cell_vol_calc_results.volumes[1], 'cm3')\n",
    "\n",
    "material_vol_calc_results = openmc.VolumeCalculation.from_hdf5('volume_2.h5')\n",
    "print('my_material volume', material_vol_calc_results.volumes[1], 'cm3')\n",
    "\n",
    "\n",
    "# the cell_vol_calc_results are combined with errors, you can access the\n",
    "# result on its own using the .nominal_value method\n",
    "\n",
    "volume_of_firstwall_cell = cell_vol_calc_results.volumes[1].nominal_value\n",
    "\n",
    "iron_atomic_mass_in_g = 55.845*1.66054E-24  # molar mass multiplier by the atomic mass unit (u)\n",
    "number_of_iron_atoms = volume_of_firstwall_cell * density_of_iron_in_g_per_cm3 / (iron_atomic_mass_in_g)\n",
    "\n",
    "print('Number of iron atoms in the firstwall ', number_of_iron_atoms)"
   ]
  },
  {
   "cell_type": "markdown",
   "metadata": {},
   "source": [
    "Therefore, as the total number of atoms and the total number of displacements is known, DPA can be found."
   ]
  },
  {
   "cell_type": "code",
   "execution_count": null,
   "metadata": {},
   "outputs": [],
   "source": [
    "DPA = displacements_for_all_atoms / number_of_iron_atoms\n",
    "\n",
    "print('DPA =', DPA)"
   ]
  },
  {
   "cell_type": "markdown",
   "metadata": {},
   "source": [
    "**Learning Outcomes for Task 6:**\n",
    "\n",
    "- Damage energy deposited can be found with the OpenMC MT 444 tally.\n",
    "- The volume of a cell can be found using the stochastic volume method.\n",
    "- Post tally calculations are sometimes required to convert neutronics numbers into something more useful."
   ]
  }
 ],
 "metadata": {
  "kernelspec": {
   "display_name": "Python 3",
   "language": "python",
   "name": "python3"
  },
  "language_info": {
   "codemirror_mode": {
    "name": "ipython",
    "version": 3
   },
   "file_extension": ".py",
   "mimetype": "text/x-python",
   "name": "python",
   "nbconvert_exporter": "python",
   "pygments_lexer": "ipython3",
   "version": "3.8.3"
  }
 },
 "nbformat": 4,
 "nbformat_minor": 2
}

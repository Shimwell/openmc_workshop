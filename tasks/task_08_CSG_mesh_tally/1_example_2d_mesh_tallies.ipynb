{
 "cells": [
  {
   "cell_type": "markdown",
   "metadata": {},
   "source": [
    "# Part 1 - 2D mesh tallies\n",
    "\n",
    "So far we have seen that neutron and photon interactions can be tallied on surfaces or cells, but what if we want to tally neutron behaviour throughout a geometry? (rather than the integrated neutron behaviour over a surface or cell).\n",
    "\n",
    "A mesh tally allows a visual inspection of the neutron behaviour spatially throughout the geometry.\n",
    "\n",
    "The geometry is subdivided into many rectangles and the neutron behaviour is recorded (tallied) by the simulation in each of the small rectangles.\n",
    "\n",
    "This can form a 2D slice of the neutron interactions throughout the model.\n",
    "\n",
    "This notebook allows users to create a simple geometry from a few different materials and plot the results of a 2D regular mesh tally applied to the geometry."
   ]
  },
  {
   "cell_type": "code",
   "execution_count": 8,
   "metadata": {},
   "outputs": [
    {
     "name": "stderr",
     "output_type": "stream",
     "text": [
      "/home/jshim/anaconda3/lib/python3.8/site-packages/IPython/core/display.py:717: UserWarning: Consider using IPython.display.IFrame instead\n",
      "  warnings.warn(\"Consider using IPython.display.IFrame instead\")\n"
     ]
    },
    {
     "data": {
      "text/html": [
       "<iframe width=\"560\" height=\"315\" src=\"https://www.youtube.com/embed/KYIsDjip1nQ\" frameborder=\"0\" allow=\"accelerometer; autoplay; clipboard-write; encrypted-media; gyroscope; picture-in-picture\" allowfullscreen></iframe>"
      ],
      "text/plain": [
       "<IPython.core.display.HTML object>"
      ]
     },
     "execution_count": 8,
     "metadata": {},
     "output_type": "execute_result"
    }
   ],
   "source": [
    "from IPython.display import HTML\n",
    "HTML('<iframe width=\"560\" height=\"315\" src=\"https://www.youtube.com/embed/KYIsDjip1nQ\" frameborder=\"0\" allow=\"accelerometer; autoplay; clipboard-write; encrypted-media; gyroscope; picture-in-picture\" allowfullscreen></iframe>')"
   ]
  },
  {
   "cell_type": "markdown",
   "metadata": {},
   "source": [
    "This code block defines the model geometry, materials, neutron source and regular mesh tally. Run the cell to see the model geometry.\n",
    "\n",
    "Observe how a 2D mesh is achieved by creating a 3D mesh with a thickness of one mesh cell in one dimension."
   ]
  },
  {
   "cell_type": "code",
   "execution_count": null,
   "metadata": {},
   "outputs": [],
   "source": [
    "import openmc\n",
    "import matplotlib.pyplot as plt\n",
    "\n",
    "# MATERIALS\n",
    "\n",
    "# creates two materials, one is a neutron multiplier (lead) and the other a tritium breeder (lithium)\n",
    "mats = openmc.Materials()\n",
    " \n",
    "breeder_material = openmc.Material(name=\"breeder\") \n",
    "breeder_material.add_element('Li', 1, percent_type='ao')\n",
    "breeder_material.set_density('g/cm3', 2.0)\n",
    "\n",
    "multiplier_material = openmc.Material(name=\"multiplier\") \n",
    "multiplier_material.add_element('Pb', 1, percent_type='ao')\n",
    "multiplier_material.set_density('g/cm3', 11.0)\n",
    "\n",
    "mats = [breeder_material, multiplier_material]\n",
    "\n",
    "\n",
    "\n",
    "# GEOMETRY\n",
    "\n",
    "# surfaces\n",
    "sph1 = openmc.Sphere(r=50)\n",
    "sph2 = openmc.Sphere(r=90, boundary_type='vacuum')\n",
    "plane1 = openmc.XPlane(20)\n",
    "\n",
    "# cells\n",
    "breeder_cell = openmc.Cell(region=+sph1 & -sph2 & -plane1)\n",
    "breeder_cell.fill = breeder_material\n",
    "\n",
    "multiplier_cell = openmc.Cell(region=+sph1 & -sph2 & +plane1)\n",
    "multiplier_cell.fill = multiplier_material\n",
    "\n",
    "inner_vacuum_cell = openmc.Cell(region=-sph1)\n",
    "\n",
    "universe = openmc.Universe(cells=[inner_vacuum_cell, breeder_cell, multiplier_cell])\n",
    "\n",
    "geom = openmc.Geometry(universe)\n",
    "\n",
    "\n",
    "# SETTINGS\n",
    "\n",
    "# Instantiate a Settings object\n",
    "sett = openmc.Settings()\n",
    "sett.batches = 100\n",
    "sett.inactive = 0\n",
    "sett.particles = 50\n",
    "sett.particle = \"neutron\"\n",
    "sett.run_mode = 'fixed source'\n",
    "\n",
    "# creates a 14MeV point source\n",
    "source = openmc.Source()\n",
    "source.space = openmc.stats.Point((0, 0, 0))\n",
    "source.angle = openmc.stats.Isotropic()\n",
    "source.energy = openmc.stats.Discrete([14e6], [1])\n",
    "sett.source = source\n",
    "\n",
    "\n",
    "# Create mesh which will be used for tally\n",
    "mesh = openmc.RegularMesh()\n",
    "mesh_height = 100   # number of cells in the X and Z dimensions\n",
    "mesh_width = mesh_height\n",
    "mesh.dimension = [mesh_width, 1, mesh_height] # only 1 cell in the Y dimension\n",
    "mesh.lower_left = [-200, -200, -200]   # physical limits (corners) of the mesh\n",
    "mesh.upper_right = [200, 200, 200]\n",
    "\n",
    "\n",
    "tallies = openmc.Tallies()\n",
    "# Create mesh filter for tally\n",
    "mesh_filter = openmc.MeshFilter(mesh)\n",
    "mesh_tally = openmc.Tally(name='tallies_on_mesh')\n",
    "mesh_tally.filters = [mesh_filter]\n",
    "mesh_tally.scores = ['flux', 'absorption', '(n,2n)']  # change flux to absorption\n",
    "tallies.append(mesh_tally)\n",
    "\n",
    "# combines the geometry, materials, settings and tallies to create a neutronics model\n",
    "model = openmc.model.Model(geom, mats, sett, tallies)\n",
    "\n",
    "plt.show(universe.plot(width=(180, 180), basis='xz'))"
   ]
  },
  {
   "cell_type": "markdown",
   "metadata": {},
   "source": [
    "The next code block performs the simulation which tallies neutron flux on the mesh, and loads the results for inspection."
   ]
  },
  {
   "cell_type": "code",
   "execution_count": null,
   "metadata": {},
   "outputs": [],
   "source": [
    "# deletes old files\n",
    "!rm summary.h5\n",
    "!rm statepoint.*.h5\n",
    "\n",
    "# runs the simulation\n",
    "output_filename = model.run()\n",
    "\n",
    "# open the results file\n",
    "results = openmc.StatePoint(output_filename)"
   ]
  },
  {
   "cell_type": "markdown",
   "metadata": {},
   "source": [
    "This code block filters the results to show the neutron flux recorded by the mesh tally."
   ]
  },
  {
   "cell_type": "code",
   "execution_count": null,
   "metadata": {},
   "outputs": [],
   "source": [
    "# access the flux tally\n",
    "my_tally = results.get_tally(scores=['flux'])\n",
    "my_slice = my_tally.get_slice(scores=['flux'])\n",
    "my_slice.mean.shape = (mesh_width, mesh_height)\n",
    "\n",
    "fig = plt.subplot()\n",
    "\n",
    "plt.show(fig.imshow(my_slice.mean))\n",
    "\n",
    "# notice that neutrons are produced and emitted isotropically from a point source.\n",
    "# There is a slight increase in flux within the neutron multiplier."
   ]
  },
  {
   "cell_type": "markdown",
   "metadata": {},
   "source": [
    "This code block filters the results to show the neutron absorption recorded by the mesh tally."
   ]
  },
  {
   "cell_type": "code",
   "execution_count": null,
   "metadata": {},
   "outputs": [],
   "source": [
    "# access the absorption tally\n",
    "my_tally = results.get_tally(scores=['absorption'])\n",
    "my_slice = my_tally.get_slice(scores=['absorption'])\n",
    "my_slice.mean.shape = (mesh_width, mesh_height)\n",
    "\n",
    "fig = plt.subplot()\n",
    "\n",
    "plt.show(fig.imshow(my_slice.mean))\n",
    "\n",
    "# notice that neutrons are being absorpted on the left hand side of the model"
   ]
  },
  {
   "cell_type": "markdown",
   "metadata": {},
   "source": [
    "This code block filters the results to show the neutron multiplication recorded by the mesh tally."
   ]
  },
  {
   "cell_type": "code",
   "execution_count": null,
   "metadata": {},
   "outputs": [],
   "source": [
    "# access the neutron multiplication tally\n",
    "my_tally = results.get_tally(scores=['(n,2n)'])\n",
    "my_slice = my_tally.get_slice(scores=['(n,2n)'])\n",
    "my_slice.mean.shape = (mesh_width, mesh_height)\n",
    "\n",
    "fig = plt.subplot()\n",
    "\n",
    "plt.show(fig.imshow(my_slice.mean))\n",
    "\n",
    "# notice that neutrons are being muliplied on the right hand side of the model"
   ]
  },
  {
   "cell_type": "code",
   "execution_count": null,
   "metadata": {},
   "outputs": [],
   "source": [
    "# Bonus information\n",
    "# The 2D mesh tally is currently recording all interactions in the 3rd dimention (z).\n",
    "# The diagrams are showing the xy plane and all interactions in the z direction.\n",
    "# However one can also change the mesh to take a central slice of with a 1cm thickness in the following way.\n",
    "# The tally takes a little longer to converge as less neutrons are interacting in the tally region.\n",
    "\n",
    "# Create mesh which will be used for tally\n",
    "mesh = openmc.RegularMesh()\n",
    "mesh_height = 100\n",
    "mesh_width = mesh_height\n",
    "mesh.dimension = [mesh_width, 1, mesh_height] # only one entry in the Y direction\n",
    "mesh.lower_left = [-200, -0.5, -200] # Y thickness is now smaller\n",
    "mesh.upper_right = [200, 0.5, 200] # Y thickness is now smaller"
   ]
  },
  {
   "cell_type": "markdown",
   "metadata": {},
   "source": [
    "**Learning Outcomes for Part 1:**\n",
    "\n",
    "- Mesh tallies can be used to visualise neutron interactions spatially throughout geometry."
   ]
  }
 ],
 "metadata": {
  "kernelspec": {
   "display_name": "Python 3",
   "language": "python",
   "name": "python3"
  },
  "language_info": {
   "codemirror_mode": {
    "name": "ipython",
    "version": 3
   },
   "file_extension": ".py",
   "mimetype": "text/x-python",
   "name": "python",
   "nbconvert_exporter": "python",
   "pygments_lexer": "ipython3",
   "version": "3.8.3"
  }
 },
 "nbformat": 4,
 "nbformat_minor": 4
}

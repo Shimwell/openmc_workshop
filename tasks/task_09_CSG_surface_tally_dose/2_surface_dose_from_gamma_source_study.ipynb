{
 "cells": [
  {
   "cell_type": "markdown",
   "metadata": {},
   "source": [
    "# Part 2 - Simulations of effective dose as a function of distance\n",
    "\n",
    "Sometimes it is useful to have the dose as function of distance from the source. The following example builds on the previous example by finding the dose as a function of distance.\n",
    "\n",
    "The geometry is a little more complex in this example as we need additional surfaces to tally on."
   ]
  },
  {
   "cell_type": "markdown",
   "metadata": {},
   "source": [
    "The following section makes the geometry, assigns materials and plots the result.\n",
    "\n",
    "This is the similar to the previous task geometry, but this time we have nested spheres which will be used to tally the dose on."
   ]
  },
  {
   "cell_type": "code",
   "execution_count": null,
   "metadata": {},
   "outputs": [],
   "source": [
    "import openmc\n",
    "\n",
    "# dimentions are in cm\n",
    "height = 150\n",
    "outer_radius = 74.5 / 2\n",
    "thickness = 1.5\n",
    "\n",
    "outer_cylinder = openmc.ZCylinder(r=outer_radius)\n",
    "inner_cylinder = openmc.ZCylinder(r=outer_radius-thickness)\n",
    "inner_top = openmc.ZPlane(z0=height*0.5)\n",
    "inner_bottom = openmc.ZPlane(z0=-height*0.5)\n",
    "outer_top = openmc.ZPlane(z0=(height*0.5)+thickness)\n",
    "outer_bottom = openmc.ZPlane(z0=(-height*0.5)-thickness)\n",
    "\n",
    "# these spheres are used to tally the dose\n",
    "sphere_1 = openmc.Sphere(r=200)\n",
    "sphere_2 = openmc.Sphere(r=250)\n",
    "sphere_3 = openmc.Sphere(r=300)\n",
    "sphere_4 = openmc.Sphere(r=350)\n",
    "sphere_5 = openmc.Sphere(r=400)\n",
    "sphere_6 = openmc.Sphere(r=450)\n",
    "sphere_7 = openmc.Sphere(r=500)\n",
    "# can't actually tally on the end of universe sphere so sphere_8 is not in the tally\n",
    "sphere_8 = openmc.Sphere(r=501, boundary_type='vacuum')\n",
    "\n",
    "steel = openmc.Material(name='steel')\n",
    "steel.set_density('g/cm3', 7.75)\n",
    "steel.add_element('Fe', 0.95, percent_type='wo')\n",
    "steel.add_element('C', 0.05, percent_type='wo')\n",
    "\n",
    "mats = openmc.Materials([steel])\n",
    "\n",
    "cylinder_region = -outer_cylinder & +inner_cylinder & -inner_top & +inner_bottom\n",
    "cylinder_cell = openmc.Cell(region=cylinder_region)\n",
    "cylinder_cell.fill = steel\n",
    "\n",
    "top_cap_region = -outer_top & +inner_top & -outer_cylinder\n",
    "top_cap_cell = openmc.Cell(region=top_cap_region)\n",
    "top_cap_cell.fill = steel\n",
    "\n",
    "bottom_cap_region = +outer_bottom & -inner_bottom & -outer_cylinder\n",
    "bottom_cap_cell = openmc.Cell(region=bottom_cap_region)\n",
    "bottom_cap_cell.fill = steel\n",
    "\n",
    "inner_void_region = -inner_cylinder & -inner_top & +inner_bottom\n",
    "inner_void_cell = openmc.Cell(region=inner_void_region)\n",
    "\n",
    "# sphere 1 region is below -sphere_1 and not (~) in the other regions\n",
    "sphere_1_region = -sphere_1\n",
    "sphere_1_cell = openmc.Cell(\n",
    "    region= sphere_1_region\n",
    "    & ~bottom_cap_region\n",
    "    & ~top_cap_region\n",
    "    & ~cylinder_region\n",
    "    & ~inner_void_region\n",
    ")\n",
    "\n",
    "sphere_2_region = +sphere_1 & -sphere_2\n",
    "sphere_2_cell = openmc.Cell(region= sphere_2_region)\n",
    "\n",
    "sphere_3_region = +sphere_2 & -sphere_3\n",
    "sphere_3_cell = openmc.Cell(region= sphere_3_region)\n",
    "\n",
    "sphere_4_region = +sphere_3 & -sphere_4\n",
    "sphere_4_cell = openmc.Cell(region= sphere_4_region)\n",
    "\n",
    "sphere_5_region = +sphere_4 & -sphere_5\n",
    "sphere_5_cell = openmc.Cell(region= sphere_5_region)\n",
    "\n",
    "sphere_6_region = +sphere_5 & -sphere_6\n",
    "sphere_6_cell = openmc.Cell(region= sphere_6_region)\n",
    "\n",
    "sphere_7_region = +sphere_6 & -sphere_7\n",
    "sphere_7_cell = openmc.Cell(region= sphere_7_region)\n",
    "\n",
    "sphere_8_region = +sphere_7 & -sphere_8\n",
    "sphere_8_cell = openmc.Cell(region= sphere_8_region)\n",
    "\n",
    "universe = openmc.Universe(cells=[\n",
    "    inner_void_cell, cylinder_cell, top_cap_cell,\n",
    "    bottom_cap_cell, sphere_1_cell, sphere_2_cell,\n",
    "    sphere_2_cell, sphere_3_cell, sphere_4_cell,\n",
    "    sphere_5_cell, sphere_6_cell, sphere_7_cell,\n",
    "    sphere_8_cell])\n",
    "\n",
    "geom = openmc.Geometry(universe)"
   ]
  },
  {
   "cell_type": "markdown",
   "metadata": {},
   "source": [
    "This section plots the geometry and colours it according to cell."
   ]
  },
  {
   "cell_type": "code",
   "execution_count": null,
   "metadata": {},
   "outputs": [],
   "source": [
    "import matplotlib.pyplot as plt\n",
    "\n",
    "color_assignment = {sphere_1_cell: 'green',\n",
    "                    sphere_2_cell: 'brown',\n",
    "                    sphere_3_cell: 'lime',\n",
    "                    sphere_4_cell: 'lightgray',\n",
    "                    sphere_5_cell: 'maroon',\n",
    "                    sphere_6_cell: 'magenta',\n",
    "                    sphere_7_cell: 'cyan',\n",
    "                    sphere_8_cell: 'purple',\n",
    "                    inner_void_cell: 'grey',\n",
    "                    bottom_cap_cell: 'red',\n",
    "                    top_cap_cell: 'blue',\n",
    "                    cylinder_cell:'yellow',\n",
    "                   }\n",
    "x, y = 1000, 1000\n",
    "plt.show(universe.plot(width=(x, y), basis='xz', colors=color_assignment))\n",
    "plt.show(universe.plot(width=(x, y), basis='xy', colors=color_assignment))"
   ]
  },
  {
   "cell_type": "markdown",
   "metadata": {},
   "source": [
    "This section makes the source, note the use of the Co60 gamma source with two energy levels."
   ]
  },
  {
   "cell_type": "code",
   "execution_count": null,
   "metadata": {},
   "outputs": [],
   "source": [
    "# Instantiate a Settings object\n",
    "sett = openmc.Settings()\n",
    "sett.batches = 100\n",
    "sett.inactive = 0\n",
    "sett.particles = 500\n",
    "sett.run_mode = 'fixed source'\n",
    "\n",
    "# Create a DT point source\n",
    "source = openmc.Source()\n",
    "source.space = openmc.stats.Point((0, 0, 0))\n",
    "source.angle = openmc.stats.Isotropic()\n",
    "# This is a Co60 source, see the task on sources to understand it\n",
    "source.energy = openmc.stats.Discrete([1.1732e6,1.3325e6], [0.5, 0.5])\n",
    "source.particle = 'photon'\n",
    "sett.source = source\n",
    "\n",
    "energy_bins_p, dose_coeffs_p = openmc.data.dose_coefficients(\n",
    "    particle='photon',\n",
    "    geometry='AP'\n",
    ")\n",
    "\n",
    "energy_function_filter_p = openmc.EnergyFunctionFilter(\n",
    "    energy_bins_p,\n",
    "    dose_coeffs_p\n",
    ")\n",
    "\n",
    "photon_particle_filter = openmc.ParticleFilter([\"photon\"])\n",
    "\n",
    "tallies = openmc.Tallies()\n",
    "\n",
    "surfaces_to_tally = [\n",
    "    sphere_1, sphere_2, sphere_2,\n",
    "    sphere_3, sphere_4, sphere_5,\n",
    "    sphere_6, sphere_7\n",
    "]\n",
    "\n",
    "# this loops adds tallies for each sphere surface\n",
    "for surface_id, surface in zip(range(1,9), surfaces_to_tally):\n",
    "    surface_filter = openmc.SurfaceFilter(surface)\n",
    "    dose_tally = openmc.Tally(name=\"dose_tally_on_surface_\"+str(surface_id))\n",
    "    dose_tally.scores = [\"current\"]\n",
    "    dose_tally.filters = [\n",
    "        surface_filter,\n",
    "        photon_particle_filter,\n",
    "        energy_function_filter_p,\n",
    "    ]\n",
    "    tallies.append(dose_tally)"
   ]
  },
  {
   "cell_type": "markdown",
   "metadata": {},
   "source": [
    "This section runs the simulation."
   ]
  },
  {
   "cell_type": "code",
   "execution_count": null,
   "metadata": {},
   "outputs": [],
   "source": [
    "# Run OpenMC!\n",
    "model = openmc.model.Model(geom, mats, sett, tallies)\n",
    "!rm *.h5\n",
    "sp_filename = model.run()"
   ]
  },
  {
   "cell_type": "markdown",
   "metadata": {},
   "source": [
    "This section loads up the results and post processes them so that the units are more useful."
   ]
  },
  {
   "cell_type": "code",
   "execution_count": null,
   "metadata": {},
   "outputs": [],
   "source": [
    "import math\n",
    "\n",
    "# open the results file\n",
    "sp = openmc.StatePoint(sp_filename)\n",
    "\n",
    "dose_rates_in_pSv = []\n",
    "distances = []\n",
    "# access the tally using pandas dataframes\n",
    "for surface_id, surface in zip(range(1,9), surfaces_to_tally):\n",
    "    tally = sp.get_tally(name='dose_tally_on_surface_'+str(surface_id))\n",
    "    df = tally.get_pandas_dataframe()\n",
    "    tally_result = df['mean'].sum()\n",
    "    tally_std_dev = df['std. dev.'].sum()\n",
    "\n",
    "    # convert from the tally output units of pSv cm² to pSv by dividing by the surface area of the surface\n",
    "    dose_in_pSv = tally_result / (4 * math.pi * math.pow(surface.r, 2))\n",
    "    distances.append(surface.r)\n",
    "\n",
    "    source_activity = 56000  # in decays per second (Bq)\n",
    "    emission_rate = 2  # the number of gammas emitted per decay which is approximately 2 for Co60\n",
    "    gamma_per_second = source_activity * emission_rate\n",
    "    dose_rate_in_pSv = dose_in_pSv * gamma_per_second\n",
    "    \n",
    "    dose_rates_in_pSv.append(dose_rate_in_pSv)\n",
    "\n",
    "# print results\n",
    "print('The surface dose = ', dose_rates_in_pSv, 'pSv per second')\n",
    "print('At distances = ', distances)"
   ]
  },
  {
   "cell_type": "markdown",
   "metadata": {},
   "source": [
    "This section plots the dose as a function of distance from the source."
   ]
  },
  {
   "cell_type": "code",
   "execution_count": null,
   "metadata": {},
   "outputs": [],
   "source": [
    "import matplotlib.pyplot as plt\n",
    "plt.plot(distances, dose_rates_in_pSv, 'o')\n",
    "plt.ylabel('Dose rates (pSv per second)')\n",
    "plt.xlabel('Distance (cm)')\n",
    "plt.savefig('dose_rate_from_co60_cask.svg')"
   ]
  },
  {
   "cell_type": "markdown",
   "metadata": {},
   "source": [
    "As expected, the dose decreases as a function of distance from the source."
   ]
  },
  {
   "cell_type": "markdown",
   "metadata": {},
   "source": [
    "**Learning Outcomes for Part 2:**\n",
    "\n",
    "- Several geometry surfaces can be utilised to obtain a tally result as a function of a physical parameter, such as distance from source."
   ]
  }
 ],
 "metadata": {
  "kernelspec": {
   "display_name": "Python 3",
   "language": "python",
   "name": "python3"
  },
  "language_info": {
   "codemirror_mode": {
    "name": "ipython",
    "version": 3
   },
   "file_extension": ".py",
   "mimetype": "text/x-python",
   "name": "python",
   "nbconvert_exporter": "python",
   "pygments_lexer": "ipython3",
   "version": "3.8.3"
  }
 },
 "nbformat": 4,
 "nbformat_minor": 4
}

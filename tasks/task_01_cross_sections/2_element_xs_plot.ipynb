{
 "cells": [
  {
   "cell_type": "markdown",
   "metadata": {},
   "source": [
    "# Part 2 - Plotting element cross sections\n",
    "\n",
    "As shown in Part 1, OpenMC is able to plot neutron interaction cross sections for specific isotopes. However, we can also do the same for elements.\n",
    "\n",
    "This python notebook allows users to plot neutron interaction cross sections for specific elements using OpenMC.\n",
    "\n",
    "To plot elemental cross sections, the cross sections of each stable isotope of the element are combined."
   ]
  },
  {
   "cell_type": "code",
   "execution_count": 6,
   "metadata": {},
   "outputs": [
    {
     "name": "stderr",
     "output_type": "stream",
     "text": [
      "/home/jshim/anaconda3/lib/python3.8/site-packages/IPython/core/display.py:717: UserWarning:\n",
      "\n",
      "Consider using IPython.display.IFrame instead\n",
      "\n"
     ]
    },
    {
     "data": {
      "text/html": [
       "<iframe width=\"560\" height=\"315\" src=\"https://www.youtube.com/embed/ELZNeIdSuMY\" frameborder=\"0\" allow=\"accelerometer; autoplay; clipboard-write; encrypted-media; gyroscope; picture-in-picture\" allowfullscreen></iframe>"
      ],
      "text/plain": [
       "<IPython.core.display.HTML object>"
      ]
     },
     "execution_count": 6,
     "metadata": {},
     "output_type": "execute_result"
    }
   ],
   "source": [
    "from IPython.display import HTML\n",
    "HTML('<iframe width=\"560\" height=\"315\" src=\"https://www.youtube.com/embed/ELZNeIdSuMY\" frameborder=\"0\" allow=\"accelerometer; autoplay; clipboard-write; encrypted-media; gyroscope; picture-in-picture\" allowfullscreen></iframe>')"
   ]
  },
  {
   "cell_type": "markdown",
   "metadata": {},
   "source": [
    "This first code block plots the (n,2n) neutron multiplication cross section for all elements."
   ]
  },
  {
   "cell_type": "code",
   "execution_count": null,
   "metadata": {
    "scrolled": true
   },
   "outputs": [],
   "source": [
    "import plotly.graph_objects as go\n",
    "\n",
    "# the create plot function contains all the OpenMC routines for accessing the cross sections\n",
    "from plotting_utils import create_element_plot\n",
    "\n",
    "elements_of_interest = [\n",
    "    'Ag', 'Al', 'Ar', 'As', 'Au', 'B', 'Ba', 'Be', 'Bi', 'Br', 'C', 'Ca', 'Cd', 'Ce', 'Cl',\n",
    "    'Co', 'Cr', 'Cs', 'Cu', 'Dy', 'Er', 'Eu', 'F', 'Fe', 'Ga', 'Gd', 'Ge', 'H', 'He', 'Hf',\n",
    "    'Hg', 'Ho', 'I',  'In', 'Ir', 'K', 'Kr', 'La', 'Li', 'Lu', 'Mg', 'Mn', 'Mo', 'N', 'Na',\n",
    "    'Nb', 'Nd', 'Ni', 'O', 'P', 'Pa', 'Pb', 'Pd',  'Po', 'Pr', 'Rb',\n",
    "    'Re', 'Rh', 'Rn', 'Ru', 'Sb', 'Sc', 'Se', 'Si', 'Sm', 'Sn', 'Sr', 'Ta', 'Tb',\n",
    "    'Te', 'Th', 'Ti', 'Tl', 'Tm', 'U', 'V', 'W', 'Xe', 'Y', 'Zn', 'Zr'\n",
    "]\n",
    "\n",
    "reaction_of_interest = '(n,2n)'\n",
    "\n",
    "# we could plot all the elements but that would take a long time so we just plot the first 15\n",
    "number_of_elements_to_plot = 15\n",
    "\n",
    "create_element_plot(\n",
    "    elements=elements_of_interest[:number_of_elements_to_plot],\n",
    "    reaction=reaction_of_interest\n",
    ")"
   ]
  },
  {
   "cell_type": "markdown",
   "metadata": {},
   "source": [
    "Tritium production is another important reaction in fusion as it affects the rate at which tritium can be bred. When designing breeder blankets we need to use materials which maximise both neutron multiplication AND tritium production.\n",
    "\n",
    "The next code block plots the (n,Xt) tritium production reaction for all elements."
   ]
  },
  {
   "cell_type": "code",
   "execution_count": null,
   "metadata": {},
   "outputs": [],
   "source": [
    "elements_of_interest = [\n",
    "    'Li', 'Ag', 'Al', 'Ar', 'As', 'Au', 'B', 'Ba', 'Be', 'Bi', 'Br', 'C', 'Ca', 'Cd', 'Ce', 'Cl',\n",
    "    'Co', 'Cr', 'Cs', 'Cu', 'Dy', 'Er', 'Eu', 'F', 'Fe', 'Ga', 'Gd', 'Ge', 'H', 'He', 'Hf',\n",
    "    'Hg', 'Ho', 'I',  'In', 'Ir', 'K', 'Kr', 'La', 'Lu', 'Mg', 'Mn', 'Mo', 'N', 'Na',\n",
    "    'Nb', 'Nd', 'Ni', 'O', 'P', 'Pa', 'Pb', 'Pd',  'Po', 'Pr', 'Rb',\n",
    "    'Re', 'Rh', 'Rn', 'Ru', 'Sb', 'Sc', 'Se', 'Si', 'Sm', 'Sn', 'Sr', 'Ta', 'Tb',\n",
    "    'Te', 'Th', 'Ti', 'Tl', 'Tm', 'U', 'V', 'W', 'Xe', 'Y', 'Zn', 'Zr'\n",
    "]\n",
    "\n",
    "reaction_of_interest = '(n,Xt)'  # The X is a wild card / catch all\n",
    "\n",
    "# we could plot all the elements but that would take a long time so we just plot the first 15\n",
    "number_of_elements_to_plot = 15\n",
    "\n",
    "create_element_plot(\n",
    "    elements=elements_of_interest[:number_of_elements_to_plot],\n",
    "    reaction=reaction_of_interest\n",
    ")"
   ]
  },
  {
   "cell_type": "markdown",
   "metadata": {},
   "source": [
    "Lithium is the typical candidate tritium breeder material used in D-T fusion reactor designs. \n",
    "\n",
    "The graph shows that Lithium has a high (n,Xt) cross section for low energy neutrons which decreases as neutron energy increases."
   ]
  },
  {
   "cell_type": "markdown",
   "metadata": {},
   "source": [
    "**Learning Outcomes for Part 2:**\n",
    "- OpenMC can be used to plot interaction cross sections for specific elements.\n",
    "- Tritium production is an important reaction to consider when selecting a breeder material.\n",
    "- Lithium is a good material for tritium production."
   ]
  }
 ],
 "metadata": {
  "kernelspec": {
   "display_name": "Python 3",
   "language": "python",
   "name": "python3"
  },
  "language_info": {
   "codemirror_mode": {
    "name": "ipython",
    "version": 3
   },
   "file_extension": ".py",
   "mimetype": "text/x-python",
   "name": "python",
   "nbconvert_exporter": "python",
   "pygments_lexer": "ipython3",
   "version": "3.8.3"
  }
 },
 "nbformat": 4,
 "nbformat_minor": 4
}
